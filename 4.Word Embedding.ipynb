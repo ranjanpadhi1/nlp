{
 "cells": [
  {
   "cell_type": "markdown",
   "id": "602a1069-7068-431e-97f0-71c31404a778",
   "metadata": {},
   "source": [
    "# Word Embedding using Word2vec"
   ]
  },
  {
   "cell_type": "code",
   "execution_count": 1,
   "id": "225cc9bb-3898-4308-8ef1-78fe28e6f986",
   "metadata": {},
   "outputs": [],
   "source": [
    "import gensim.downloader as api"
   ]
  },
  {
   "cell_type": "code",
   "execution_count": 2,
   "id": "2e962b1b-5add-4612-bf78-5a709f3447cb",
   "metadata": {},
   "outputs": [
    {
     "data": {
      "text/plain": [
       "'https://raw.githubusercontent.com/RaRe-Technologies/gensim-data/master/list.json'"
      ]
     },
     "execution_count": 2,
     "metadata": {},
     "output_type": "execute_result"
    }
   ],
   "source": [
    "api."
   ]
  }
 ],
 "metadata": {
  "kernelspec": {
   "display_name": "Python 3 (ipykernel)",
   "language": "python",
   "name": "python3"
  },
  "language_info": {
   "codemirror_mode": {
    "name": "ipython",
    "version": 3
   },
   "file_extension": ".py",
   "mimetype": "text/x-python",
   "name": "python",
   "nbconvert_exporter": "python",
   "pygments_lexer": "ipython3",
   "version": "3.11.7"
  }
 },
 "nbformat": 4,
 "nbformat_minor": 5
}
