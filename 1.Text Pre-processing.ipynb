{
 "cells": [
  {
   "cell_type": "code",
   "execution_count": 3,
   "id": "7d55ed0e-432b-43f3-9920-1f58c83e820f",
   "metadata": {},
   "outputs": [],
   "source": [
    "import re\n",
    "import nltk\n",
    "from nltk.corpus import stopwords"
   ]
  },
  {
   "cell_type": "code",
   "execution_count": 2,
   "id": "8765ffca-7a1c-46e1-a4b7-75ceeef10f6f",
   "metadata": {},
   "outputs": [],
   "source": [
    "paragraph = \"\"\"Narendra Damodardas Modi was born on 17 September 1950 to a Gujarati Hindu family of oil presser (Modh-Ghanchi) which is an Other Backward Class (OBC) category[44][45] in Vadnagar, Mehsana district, Bombay State (present-day Gujarat). He was the third of six children born to Damodardas Mulchand Modi (c. 1915–1989) and Hiraben Modi (1923–2022).[46][a][47]\n",
    "\n",
    "Modi had infrequently worked as a child in his father's tea business on the Vadnagar railway station platform, according to Modi and his neighbours.[48][49][50]\n",
    "\n",
    "Modi completed his higher secondary education in Vadnagar in 1967; his teachers described him as an average student and a keen, gifted debater with an interest in theatre.[51] He preferred playing larger-than-life characters in theatrical productions, which has influenced his political image.[52][53]\n",
    "\n",
    "When Modi was eight years old, he was introduced to the Rashtriya Swayamsevak Sangh (RSS) and began attending its local shakhas (training sessions). There, he met Lakshmanrao Inamdar, who inducted Modi as a balswayamsevak (junior cadet) in the RSS and became his political mentor.[54] While Modi was training with the RSS, he also met Vasant Gajendragadkar and Nathalal Jaghda, Bharatiya Jana Sangh leaders who in 1980 helped found the BJP's Gujarat unit.[55] As a teenager, he was enrolled in the National Cadet Corps.[56]\"\"\""
   ]
  },
  {
   "cell_type": "code",
   "execution_count": 77,
   "id": "0f972ba3-536b-4533-bf67-e7119f6b4b12",
   "metadata": {},
   "outputs": [
    {
     "data": {
      "text/plain": [
       "['Narendra Damodardas Modi was born on 17 September 1950 to a Gujarati Hindu family of oil presser (Modh-Ghanchi) which is an Other Backward Class (OBC) category[44][45] in Vadnagar, Mehsana district, Bombay State (present-day Gujarat).',\n",
       " 'He was the third of six children born to Damodardas Mulchand Modi (c.\\u20091915–1989) and Hiraben Modi (1923–2022).',\n",
       " \"[46][a][47]\\n\\nModi had infrequently worked as a child in his father's tea business on the Vadnagar railway station platform, according to Modi and his neighbours.\",\n",
       " '[48][49][50]\\n\\nModi completed his higher secondary education in Vadnagar in 1967; his teachers described him as an average student and a keen, gifted debater with an interest in theatre.',\n",
       " '[51] He preferred playing larger-than-life characters in theatrical productions, which has influenced his political image.',\n",
       " '[52][53]\\n\\nWhen Modi was eight years old, he was introduced to the Rashtriya Swayamsevak Sangh (RSS) and began attending its local shakhas (training sessions).',\n",
       " 'There, he met Lakshmanrao Inamdar, who inducted Modi as a balswayamsevak (junior cadet) in the RSS and became his political mentor.',\n",
       " \"[54] While Modi was training with the RSS, he also met Vasant Gajendragadkar and Nathalal Jaghda, Bharatiya Jana Sangh leaders who in 1980 helped found the BJP's Gujarat unit.\",\n",
       " '[55] As a teenager, he was enrolled in the National Cadet Corps.',\n",
       " '[56]']"
      ]
     },
     "execution_count": 77,
     "metadata": {},
     "output_type": "execute_result"
    }
   ],
   "source": [
    "# Sentence Tokenization\n",
    "documents = nltk.sent_tokenize(paragraph)"
   ]
  },
  {
   "cell_type": "code",
   "execution_count": 70,
   "id": "9e52f8d8-2526-4c95-b9cc-719bd4e1487d",
   "metadata": {},
   "outputs": [
    {
     "data": {
      "text/plain": [
       "'work'"
      ]
     },
     "execution_count": 70,
     "metadata": {},
     "output_type": "execute_result"
    }
   ],
   "source": [
    "# Stemming\n",
    "stemmer = nltk.stem.PorterStemmer()\n",
    "stemmer.stem('running')"
   ]
  },
  {
   "cell_type": "code",
   "execution_count": 53,
   "id": "cbac8b6e-6593-4bf7-86f3-73239bc62b44",
   "metadata": {},
   "outputs": [
    {
     "data": {
      "text/plain": [
       "'histori'"
      ]
     },
     "execution_count": 53,
     "metadata": {},
     "output_type": "execute_result"
    }
   ],
   "source": [
    "stemmer.stem('history')"
   ]
  },
  {
   "cell_type": "code",
   "execution_count": 71,
   "id": "086b2446-356a-4130-b6a2-953099c60a9c",
   "metadata": {},
   "outputs": [
    {
     "data": {
      "text/plain": [
       "'worked'"
      ]
     },
     "execution_count": 71,
     "metadata": {},
     "output_type": "execute_result"
    }
   ],
   "source": [
    "# Lammatization\n",
    "lem = nltk.stem.WordNetLemmatizer()\n",
    "lem.lemmatize('history')"
   ]
  },
  {
   "cell_type": "code",
   "execution_count": 4,
   "id": "64b39cd9-cd91-48eb-9790-340536b1eb97",
   "metadata": {},
   "outputs": [
    {
     "data": {
      "text/plain": [
       "[['narendra',\n",
       "  'damodardas',\n",
       "  'modi',\n",
       "  'born',\n",
       "  'september',\n",
       "  'gujarati',\n",
       "  'hindu',\n",
       "  'family',\n",
       "  'oil',\n",
       "  'presser',\n",
       "  'modh',\n",
       "  'ghanchi',\n",
       "  'backward',\n",
       "  'class',\n",
       "  'obc',\n",
       "  'category',\n",
       "  'vadnagar',\n",
       "  'mehsana',\n",
       "  'district',\n",
       "  'bombay',\n",
       "  'state',\n",
       "  'present',\n",
       "  'day',\n",
       "  'gujarat'],\n",
       " ['third',\n",
       "  'six',\n",
       "  'child',\n",
       "  'born',\n",
       "  'damodardas',\n",
       "  'mulchand',\n",
       "  'modi',\n",
       "  'c',\n",
       "  'hiraben',\n",
       "  'modi'],\n",
       " ['modi',\n",
       "  'infrequently',\n",
       "  'worked',\n",
       "  'child',\n",
       "  'father',\n",
       "  'tea',\n",
       "  'business',\n",
       "  'vadnagar',\n",
       "  'railway',\n",
       "  'station',\n",
       "  'platform',\n",
       "  'according',\n",
       "  'modi',\n",
       "  'neighbour'],\n",
       " ['modi',\n",
       "  'completed',\n",
       "  'higher',\n",
       "  'secondary',\n",
       "  'education',\n",
       "  'vadnagar',\n",
       "  'teacher',\n",
       "  'described',\n",
       "  'average',\n",
       "  'student',\n",
       "  'keen',\n",
       "  'gifted',\n",
       "  'debater',\n",
       "  'interest',\n",
       "  'theatre'],\n",
       " ['preferred',\n",
       "  'playing',\n",
       "  'larger',\n",
       "  'life',\n",
       "  'character',\n",
       "  'theatrical',\n",
       "  'production',\n",
       "  'influenced',\n",
       "  'political',\n",
       "  'image'],\n",
       " ['modi',\n",
       "  'eight',\n",
       "  'year',\n",
       "  'old',\n",
       "  'introduced',\n",
       "  'rashtriya',\n",
       "  'swayamsevak',\n",
       "  'sangh',\n",
       "  'r',\n",
       "  'began',\n",
       "  'attending',\n",
       "  'local',\n",
       "  'shakhas',\n",
       "  'training',\n",
       "  'session'],\n",
       " ['met',\n",
       "  'lakshmanrao',\n",
       "  'inamdar',\n",
       "  'inducted',\n",
       "  'modi',\n",
       "  'balswayamsevak',\n",
       "  'junior',\n",
       "  'cadet',\n",
       "  'r',\n",
       "  'became',\n",
       "  'political',\n",
       "  'mentor'],\n",
       " ['modi',\n",
       "  'training',\n",
       "  'r',\n",
       "  'also',\n",
       "  'met',\n",
       "  'vasant',\n",
       "  'gajendragadkar',\n",
       "  'nathalal',\n",
       "  'jaghda',\n",
       "  'bharatiya',\n",
       "  'jana',\n",
       "  'sangh',\n",
       "  'leader',\n",
       "  'helped',\n",
       "  'found',\n",
       "  'bjp',\n",
       "  'gujarat',\n",
       "  'unit'],\n",
       " ['teenager', 'enrolled', 'national', 'cadet', 'corp'],\n",
       " []]"
      ]
     },
     "execution_count": 4,
     "metadata": {},
     "output_type": "execute_result"
    }
   ],
   "source": [
    "# Sentence Tokenization\n",
    "documents = nltk.sent_tokenize(paragraph)\n",
    "\n",
    "# Get the list of English stopwords\n",
    "stop_words = set(stopwords.words('english'))\n",
    "\n",
    "lem = nltk.stem.WordNetLemmatizer()\n",
    "corpus = []\n",
    "\n",
    "for text in documents:\n",
    "    text = text.lower()\n",
    "    # Remove special chars and numbers\n",
    "    text = re.sub('[^a-z]', ' ', text)\n",
    "    # Tokenize sentences to words\n",
    "    words = nltk.tokenize.word_tokenize(text)\n",
    "    # Filter out stop words\n",
    "    words = [word for word in words if word not in stop_words]\n",
    "    # Lemmatize words\n",
    "    words = [lem.lemmatize(word) for word in words]\n",
    "    corpus.append(words)\n",
    "\n",
    "corpus"
   ]
  },
  {
   "cell_type": "code",
   "execution_count": 22,
   "id": "6b3cd5b8-8b5f-44f8-aea7-6aa9808d20f1",
   "metadata": {},
   "outputs": [
    {
     "data": {
      "text/plain": [
       "[('narendra', 'JJ'),\n",
       " ('damodardas', 'NNS'),\n",
       " ('modi', 'VBP'),\n",
       " ('born', 'JJ'),\n",
       " ('september', 'NNP'),\n",
       " ('gujarati', 'NN'),\n",
       " ('hindu', 'NN'),\n",
       " ('family', 'NN'),\n",
       " ('oil', 'NN'),\n",
       " ('presser', 'NN'),\n",
       " ('modh', 'NN'),\n",
       " ('ghanchi', 'FW'),\n",
       " ('backward', 'JJ'),\n",
       " ('class', 'NN'),\n",
       " ('obc', 'NN'),\n",
       " ('category', 'NN'),\n",
       " ('vadnagar', 'NN'),\n",
       " ('mehsana', 'NNP'),\n",
       " ('district', 'NN'),\n",
       " ('bombay', 'NN'),\n",
       " ('state', 'NN'),\n",
       " ('present', 'JJ'),\n",
       " ('day', 'NN'),\n",
       " ('gujarat', 'NN')]"
      ]
     },
     "execution_count": 22,
     "metadata": {},
     "output_type": "execute_result"
    }
   ],
   "source": [
    "# Part of speech tagging: (POS Tagging)\n",
    "tags = nltk.pos_tag(corpus[0])\n",
    "tags"
   ]
  },
  {
   "cell_type": "code",
   "execution_count": 23,
   "id": "516637a3-5dd6-4a42-bbcc-da0be3adf156",
   "metadata": {},
   "outputs": [],
   "source": [
    "# Named Entity Recognition\n",
    "nltk.ne_chunk(tags).draw()"
   ]
  },
  {
   "cell_type": "code",
   "execution_count": null,
   "id": "1ca08a93-0599-4cd7-b770-8d93921eb8a0",
   "metadata": {},
   "outputs": [],
   "source": []
  }
 ],
 "metadata": {
  "kernelspec": {
   "display_name": "Python 3 (ipykernel)",
   "language": "python",
   "name": "python3"
  },
  "language_info": {
   "codemirror_mode": {
    "name": "ipython",
    "version": 3
   },
   "file_extension": ".py",
   "mimetype": "text/x-python",
   "name": "python",
   "nbconvert_exporter": "python",
   "pygments_lexer": "ipython3",
   "version": "3.11.7"
  }
 },
 "nbformat": 4,
 "nbformat_minor": 5
}
