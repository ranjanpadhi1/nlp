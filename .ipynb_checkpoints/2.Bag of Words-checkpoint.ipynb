{
 "cells": [
  {
   "cell_type": "code",
   "execution_count": 3,
   "id": "8765ffca-7a1c-46e1-a4b7-75ceeef10f6f",
   "metadata": {},
   "outputs": [],
   "source": [
    "paragraph = \"\"\"Narendra Damodardas Modi was born on 17 September 1950 to a Gujarati Hindu family of oil presser (Modh-Ghanchi) which is an Other Backward Class (OBC) category[44][45] in Vadnagar, Mehsana district, Bombay State (present-day Gujarat). He was the third of six children born to Damodardas Mulchand Modi (c. 1915–1989) and Hiraben Modi (1923–2022).[46][a][47]\n",
    "\n",
    "Modi had infrequently worked as a child in his father's tea business on the Vadnagar railway station platform, according to Modi and his neighbours.[48][49][50]\n",
    "\n",
    "Modi completed his higher secondary education in Vadnagar in 1967; his teachers described him as an average student and a keen, gifted debater with an interest in theatre.[51] He preferred playing larger-than-life characters in theatrical productions, which has influenced his political image.[52][53]\n",
    "\n",
    "When Modi was eight years old, he was introduced to the Rashtriya Swayamsevak Sangh (RSS) and began attending its local shakhas (training sessions). There, he met Lakshmanrao Inamdar, who inducted Modi as a balswayamsevak (junior cadet) in the RSS and became his political mentor.[54] While Modi was training with the RSS, he also met Vasant Gajendragadkar and Nathalal Jaghda, Bharatiya Jana Sangh leaders who in 1980 helped found the BJP's Gujarat unit.[55] As a teenager, he was enrolled in the National Cadet Corps.[56]\"\"\""
   ]
  },
  {
   "cell_type": "code",
   "execution_count": 85,
   "id": "64b39cd9-cd91-48eb-9790-340536b1eb97",
   "metadata": {},
   "outputs": [],
   "source": [
    "import re\n",
    "import nltk\n",
    "from nltk.corpus import stopwords\n",
    "from nltk.stem import WordNetLemmatizer\n",
    "from sklearn.feature_extraction.text import CountVectorizer\n",
    "\n",
    "def clean_up_text(paragraph):\n",
    "    documents = nltk.sent_tokenize(paragraph.lower())\n",
    "    corpus = []\n",
    "    stop_words = set(stopwords.words('english'))\n",
    "    lem = WordNetLemmatizer()\n",
    "\n",
    "    for doc in documents:\n",
    "        doc = re.sub('[^a-z]', ' ', doc)\n",
    "        words = nltk.word_tokenize(doc)\n",
    "        words = [lem.lemmatize(word) for word in words if word not in stop_words]\n",
    "        corpus.append(' '.join(words))\n",
    "\n",
    "    return corpus\n",
    "    \n",
    "def bag_of_words(paragraph):\n",
    "    corpus = clean_up_text(paragraph)\n",
    "    \n",
    "    cv = CountVectorizer(binary=True)\n",
    "    x = cv.fit_transform(corpus)\n",
    "    print(cv.vocabulary_)\n",
    "    return xv"
   ]
  },
  {
   "cell_type": "code",
   "execution_count": 83,
   "id": "b12b2a3f-853b-4d77-b998-fa5ef613f978",
   "metadata": {},
   "outputs": [
    {
     "name": "stdout",
     "output_type": "stream",
     "text": [
      "{'narendra': 62, 'damodardas': 20, 'modi': 60, 'born': 11, 'september': 80, 'gujarati': 35, 'hindu': 38, 'family': 28, 'oil': 67, 'presser': 74, 'modh': 59, 'ghanchi': 32, 'backward': 4, 'class': 17, 'obc': 66, 'category': 14, 'vadnagar': 96, 'mehsana': 56, 'district': 24, 'bombay': 10, 'state': 84, 'present': 73, 'day': 21, 'gujarat': 34, 'third': 93, 'six': 83, 'child': 16, 'mulchand': 61, 'hiraben': 39, 'infrequently': 44, 'worked': 98, 'father': 29, 'tea': 88, 'business': 12, 'railway': 76, 'station': 85, 'platform': 69, 'according': 0, 'neighbour': 65, 'completed': 18, 'higher': 37, 'secondary': 79, 'education': 25, 'teacher': 89, 'described': 23, 'average': 3, 'student': 86, 'keen': 50, 'gifted': 33, 'debater': 22, 'interest': 45, 'theatre': 91, 'preferred': 72, 'playing': 70, 'larger': 52, 'life': 54, 'character': 15, 'theatrical': 92, 'production': 75, 'influenced': 43, 'political': 71, 'image': 40, 'eight': 26, 'year': 99, 'old': 68, 'introduced': 46, 'rashtriya': 77, 'swayamsevak': 87, 'sangh': 78, 'began': 7, 'attending': 2, 'local': 55, 'shakhas': 82, 'training': 94, 'session': 81, 'met': 58, 'lakshmanrao': 51, 'inamdar': 41, 'inducted': 42, 'balswayamsevak': 5, 'junior': 49, 'cadet': 13, 'became': 6, 'mentor': 57, 'also': 1, 'vasant': 97, 'gajendragadkar': 31, 'nathalal': 63, 'jaghda': 47, 'bharatiya': 8, 'jana': 48, 'leader': 53, 'helped': 36, 'found': 30, 'bjp': 9, 'unit': 95, 'teenager': 90, 'enrolled': 27, 'national': 64, 'corp': 19}\n"
     ]
    },
    {
     "data": {
      "text/plain": [
       "[array([[0, 0, 0, 0, 1, 0, 0, 0, 0, 0, 1, 1, 0, 0, 1, 0, 0, 1, 0, 0, 1, 1,\n",
       "         0, 0, 1, 0, 0, 0, 1, 0, 0, 0, 1, 0, 1, 1, 0, 0, 1, 0, 0, 0, 0, 0,\n",
       "         0, 0, 0, 0, 0, 0, 0, 0, 0, 0, 0, 0, 1, 0, 0, 1, 1, 0, 1, 0, 0, 0,\n",
       "         1, 1, 0, 0, 0, 0, 0, 1, 1, 0, 0, 0, 0, 0, 1, 0, 0, 0, 1, 0, 0, 0,\n",
       "         0, 0, 0, 0, 0, 0, 0, 0, 1, 0, 0, 0]], dtype=int64),\n",
       " array([[0, 0, 0, 0, 0, 0, 0, 0, 0, 0, 0, 1, 0, 0, 0, 0, 1, 0, 0, 0, 1, 0,\n",
       "         0, 0, 0, 0, 0, 0, 0, 0, 0, 0, 0, 0, 0, 0, 0, 0, 0, 1, 0, 0, 0, 0,\n",
       "         0, 0, 0, 0, 0, 0, 0, 0, 0, 0, 0, 0, 0, 0, 0, 0, 1, 1, 0, 0, 0, 0,\n",
       "         0, 0, 0, 0, 0, 0, 0, 0, 0, 0, 0, 0, 0, 0, 0, 0, 0, 1, 0, 0, 0, 0,\n",
       "         0, 0, 0, 0, 0, 1, 0, 0, 0, 0, 0, 0]], dtype=int64),\n",
       " array([[1, 0, 0, 0, 0, 0, 0, 0, 0, 0, 0, 0, 1, 0, 0, 0, 1, 0, 0, 0, 0, 0,\n",
       "         0, 0, 0, 0, 0, 0, 0, 1, 0, 0, 0, 0, 0, 0, 0, 0, 0, 0, 0, 0, 0, 0,\n",
       "         1, 0, 0, 0, 0, 0, 0, 0, 0, 0, 0, 0, 0, 0, 0, 0, 1, 0, 0, 0, 0, 1,\n",
       "         0, 0, 0, 1, 0, 0, 0, 0, 0, 0, 1, 0, 0, 0, 0, 0, 0, 0, 0, 1, 0, 0,\n",
       "         1, 0, 0, 0, 0, 0, 0, 0, 1, 0, 1, 0]], dtype=int64),\n",
       " array([[0, 0, 0, 1, 0, 0, 0, 0, 0, 0, 0, 0, 0, 0, 0, 0, 0, 0, 1, 0, 0, 0,\n",
       "         1, 1, 0, 1, 0, 0, 0, 0, 0, 0, 0, 1, 0, 0, 0, 1, 0, 0, 0, 0, 0, 0,\n",
       "         0, 1, 0, 0, 0, 0, 1, 0, 0, 0, 0, 0, 0, 0, 0, 0, 1, 0, 0, 0, 0, 0,\n",
       "         0, 0, 0, 0, 0, 0, 0, 0, 0, 0, 0, 0, 0, 1, 0, 0, 0, 0, 0, 0, 1, 0,\n",
       "         0, 1, 0, 1, 0, 0, 0, 0, 1, 0, 0, 0]], dtype=int64),\n",
       " array([[0, 0, 0, 0, 0, 0, 0, 0, 0, 0, 0, 0, 0, 0, 0, 1, 0, 0, 0, 0, 0, 0,\n",
       "         0, 0, 0, 0, 0, 0, 0, 0, 0, 0, 0, 0, 0, 0, 0, 0, 0, 0, 1, 0, 0, 1,\n",
       "         0, 0, 0, 0, 0, 0, 0, 0, 1, 0, 1, 0, 0, 0, 0, 0, 0, 0, 0, 0, 0, 0,\n",
       "         0, 0, 0, 0, 1, 1, 1, 0, 0, 1, 0, 0, 0, 0, 0, 0, 0, 0, 0, 0, 0, 0,\n",
       "         0, 0, 0, 0, 1, 0, 0, 0, 0, 0, 0, 0]], dtype=int64),\n",
       " array([[0, 0, 1, 0, 0, 0, 0, 1, 0, 0, 0, 0, 0, 0, 0, 0, 0, 0, 0, 0, 0, 0,\n",
       "         0, 0, 0, 0, 1, 0, 0, 0, 0, 0, 0, 0, 0, 0, 0, 0, 0, 0, 0, 0, 0, 0,\n",
       "         0, 0, 1, 0, 0, 0, 0, 0, 0, 0, 0, 1, 0, 0, 0, 0, 1, 0, 0, 0, 0, 0,\n",
       "         0, 0, 1, 0, 0, 0, 0, 0, 0, 0, 0, 1, 1, 0, 0, 1, 1, 0, 0, 0, 0, 1,\n",
       "         0, 0, 0, 0, 0, 0, 1, 0, 0, 0, 0, 1]], dtype=int64),\n",
       " array([[0, 0, 0, 0, 0, 1, 1, 0, 0, 0, 0, 0, 0, 1, 0, 0, 0, 0, 0, 0, 0, 0,\n",
       "         0, 0, 0, 0, 0, 0, 0, 0, 0, 0, 0, 0, 0, 0, 0, 0, 0, 0, 0, 1, 1, 0,\n",
       "         0, 0, 0, 0, 0, 1, 0, 1, 0, 0, 0, 0, 0, 1, 1, 0, 1, 0, 0, 0, 0, 0,\n",
       "         0, 0, 0, 0, 0, 1, 0, 0, 0, 0, 0, 0, 0, 0, 0, 0, 0, 0, 0, 0, 0, 0,\n",
       "         0, 0, 0, 0, 0, 0, 0, 0, 0, 0, 0, 0]], dtype=int64),\n",
       " array([[0, 1, 0, 0, 0, 0, 0, 0, 1, 1, 0, 0, 0, 0, 0, 0, 0, 0, 0, 0, 0, 0,\n",
       "         0, 0, 0, 0, 0, 0, 0, 0, 1, 1, 0, 0, 1, 0, 1, 0, 0, 0, 0, 0, 0, 0,\n",
       "         0, 0, 0, 1, 1, 0, 0, 0, 0, 1, 0, 0, 0, 0, 1, 0, 1, 0, 0, 1, 0, 0,\n",
       "         0, 0, 0, 0, 0, 0, 0, 0, 0, 0, 0, 0, 1, 0, 0, 0, 0, 0, 0, 0, 0, 0,\n",
       "         0, 0, 0, 0, 0, 0, 1, 1, 0, 1, 0, 0]], dtype=int64),\n",
       " array([[0, 0, 0, 0, 0, 0, 0, 0, 0, 0, 0, 0, 0, 1, 0, 0, 0, 0, 0, 1, 0, 0,\n",
       "         0, 0, 0, 0, 0, 1, 0, 0, 0, 0, 0, 0, 0, 0, 0, 0, 0, 0, 0, 0, 0, 0,\n",
       "         0, 0, 0, 0, 0, 0, 0, 0, 0, 0, 0, 0, 0, 0, 0, 0, 0, 0, 0, 0, 1, 0,\n",
       "         0, 0, 0, 0, 0, 0, 0, 0, 0, 0, 0, 0, 0, 0, 0, 0, 0, 0, 0, 0, 0, 0,\n",
       "         0, 0, 1, 0, 0, 0, 0, 0, 0, 0, 0, 0]], dtype=int64),\n",
       " array([[0, 0, 0, 0, 0, 0, 0, 0, 0, 0, 0, 0, 0, 0, 0, 0, 0, 0, 0, 0, 0, 0,\n",
       "         0, 0, 0, 0, 0, 0, 0, 0, 0, 0, 0, 0, 0, 0, 0, 0, 0, 0, 0, 0, 0, 0,\n",
       "         0, 0, 0, 0, 0, 0, 0, 0, 0, 0, 0, 0, 0, 0, 0, 0, 0, 0, 0, 0, 0, 0,\n",
       "         0, 0, 0, 0, 0, 0, 0, 0, 0, 0, 0, 0, 0, 0, 0, 0, 0, 0, 0, 0, 0, 0,\n",
       "         0, 0, 0, 0, 0, 0, 0, 0, 0, 0, 0, 0]], dtype=int64)]"
      ]
     },
     "execution_count": 83,
     "metadata": {},
     "output_type": "execute_result"
    }
   ],
   "source": [
    "bag_of_words(paragraph)"
   ]
  },
  {
   "cell_type": "code",
   "execution_count": null,
   "id": "bbdbf9e1-53f9-4546-9ed7-f64b24049f3e",
   "metadata": {},
   "outputs": [],
   "source": []
  }
 ],
 "metadata": {
  "kernelspec": {
   "display_name": "Python 3 (ipykernel)",
   "language": "python",
   "name": "python3"
  },
  "language_info": {
   "codemirror_mode": {
    "name": "ipython",
    "version": 3
   },
   "file_extension": ".py",
   "mimetype": "text/x-python",
   "name": "python",
   "nbconvert_exporter": "python",
   "pygments_lexer": "ipython3",
   "version": "3.11.7"
  }
 },
 "nbformat": 4,
 "nbformat_minor": 5
}
